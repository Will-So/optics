{
 "cells": [
  {
   "cell_type": "markdown",
   "metadata": {},
   "source": [
    "# References"
   ]
  },
  {
   "cell_type": "markdown",
   "metadata": {},
   "source": [
    "- [Java Implementation](http://elki.dbs.ifi.lmu.de/browser/elki/elki/src/main/java/de/lmu/ifi/dbs/elki/algorithm/clustering/optics/OPTICSHeap.java)\n",
    "- [General Discussion](http://www.vitavonni.de/blog/201211/2012110201-dbscan-and-optics-clustering.html)\n",
    "- [Python Implementation](http://chemometria.us.edu.pl/download/optics.py)\n",
    "- [Wiki](https://en.wikipedia.org/wiki/OPTICS_algorithm)\n",
    "- [SO](http://stackoverflow.com/questions/5515675/python-implementation-of-optics-clustering-algorithm)\n",
    "\n",
    "http://www.uni-weimar.de/medien/webis/publications/papers/stein_2005d.pdf"
   ]
  }
 ],
 "metadata": {
  "kernelspec": {
   "display_name": "Python 3",
   "language": "python",
   "name": "python3"
  },
  "language_info": {
   "codemirror_mode": {
    "name": "ipython",
    "version": 3
   },
   "file_extension": ".py",
   "mimetype": "text/x-python",
   "name": "python",
   "nbconvert_exporter": "python",
   "pygments_lexer": "ipython3",
   "version": "3.4.3"
  }
 },
 "nbformat": 4,
 "nbformat_minor": 0
}
